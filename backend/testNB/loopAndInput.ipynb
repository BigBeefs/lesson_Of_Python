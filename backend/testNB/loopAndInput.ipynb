{
 "cells": [
  {
   "attachments": {},
   "cell_type": "markdown",
   "metadata": {},
   "source": [
    "# TEST DEI LOOP E DEGLI INPUT #"
   ]
  },
  {
   "cell_type": "code",
   "execution_count": 5,
   "metadata": {},
   "outputs": [
    {
     "name": "stdout",
     "output_type": "stream",
     "text": [
      "Sei minorenne\n"
     ]
    }
   ],
   "source": [
    "age = 18\n",
    "\n",
    "if age < 18:\n",
    "    print('Sei maggiorenne')\n",
    "else:\n",
    "    print('Sei minorenne')\n"
   ]
  },
  {
   "cell_type": "code",
   "execution_count": null,
   "metadata": {},
   "outputs": [],
   "source": [
    "age = 18\n",
    "\n",
    "if age < 18:\n",
    "    print('Sei maggiorenne')\n",
    "elif age <=18:\n",
    "    print('Sei un regaz')\n",
    "elif age < 50:\n",
    "    print('Sei un boomer')"
   ]
  },
  {
   "cell_type": "code",
   "execution_count": 33,
   "metadata": {},
   "outputs": [
    {
     "name": "stdout",
     "output_type": "stream",
     "text": [
      "Puoi avere la macchina a noleggio\n"
     ]
    }
   ],
   "source": [
    "age= int(input('Quanti hanni hai?')) \n",
    "patente= input('Hai la patente?')\n",
    "soldi=True\n",
    "\n",
    "if patente!= 'si' and 'sì' and 'Si' and 'Sì':\n",
    "    print('Non Puoi avere la macchina')\n",
    "\n",
    "elif age >= 18  and soldi:\n",
    "    print('Puoi avere la macchina a noleggio')\n",
    "elif soldi==False:\n",
    "    print('Non hai soldi!!!') \n",
    "elif age<18:\n",
    "    print('Sei minorenne')\n",
    "   "
   ]
  },
  {
   "cell_type": "code",
   "execution_count": 23,
   "metadata": {},
   "outputs": [
    {
     "name": "stdout",
     "output_type": "stream",
     "text": [
      "Hai 18\n"
     ]
    }
   ],
   "source": [
    "eta = input('Quanti hanni hai?')\n",
    "print('Hai '+str(int(eta))) # Modifica il valore input(sempre 'str') in \"int\""
   ]
  },
  {
   "cell_type": "code",
   "execution_count": 3,
   "metadata": {},
   "outputs": [],
   "source": [
    "while True:\n",
    "    numero = int(input('Inserisci un numero ')) #trasforma il type dell'input\n",
    "    if numero >= 100:\n",
    "        print('Il numero insrerito è', numero)\n",
    "    break"
   ]
  },
  {
   "cell_type": "code",
   "execution_count": 12,
   "metadata": {},
   "outputs": [
    {
     "name": "stdout",
     "output_type": "stream",
     "text": [
      "Hai inserito  a\n"
     ]
    }
   ],
   "source": [
    "while True:\n",
    "    lettera = input('Inserisci una vocale ')\n",
    "    if lettera not in ['a','e','i','o','u']:   # il \"not in\" esclude gli elementi presenti nella condizione\n",
    "        print('Hai inserito' ,lettera)\n",
    "    break"
   ]
  },
  {
   "cell_type": "code",
   "execution_count": null,
   "metadata": {},
   "outputs": [],
   "source": []
  }
 ],
 "metadata": {
  "kernelspec": {
   "display_name": "Python 3",
   "language": "python",
   "name": "python3"
  },
  "language_info": {
   "codemirror_mode": {
    "name": "ipython",
    "version": 3
   },
   "file_extension": ".py",
   "mimetype": "text/x-python",
   "name": "python",
   "nbconvert_exporter": "python",
   "pygments_lexer": "ipython3",
   "version": "3.10.10"
  },
  "orig_nbformat": 4
 },
 "nbformat": 4,
 "nbformat_minor": 2
}
