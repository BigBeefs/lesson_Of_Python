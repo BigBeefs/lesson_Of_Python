{
 "cells": [
  {
   "attachments": {},
   "cell_type": "markdown",
   "metadata": {},
   "source": [
    "# PROVA RICHIAMO FUNZIONI + LAMBDA #"
   ]
  },
  {
   "cell_type": "code",
   "execution_count": 1,
   "metadata": {},
   "outputs": [
    {
     "name": "stdout",
     "output_type": "stream",
     "text": [
      "6 78.53981633974483\n"
     ]
    }
   ],
   "source": [
    "from modulo.formule import area_rettangolo as ar #Alias della funzione\n",
    "from modulo.formule import area_cerchio as ac\n",
    "import math\n",
    "\n",
    "area_r = ar(3,2)\n",
    "area_c = ac(5)\n",
    "\n",
    "print(area_r,area_c)\n"
   ]
  },
  {
   "cell_type": "code",
   "execution_count": 2,
   "metadata": {},
   "outputs": [
    {
     "data": {
      "text/plain": [
       "9"
      ]
     },
     "execution_count": 2,
     "metadata": {},
     "output_type": "execute_result"
    }
   ],
   "source": [
    "(lambda x: x+1)(6) #indichiamo il valore di x nella seconda parentesi\n",
    "\n",
    "add_one = lambda x: x+1  #possiamo assegnarla ad una variabile\n",
    "add_one(3) \n",
    "\n",
    "double = lambda x: x * x\n",
    "double(3)                  "
   ]
  },
  {
   "cell_type": "code",
   "execution_count": 5,
   "metadata": {},
   "outputs": [
    {
     "data": {
      "text/plain": [
       "6"
      ]
     },
     "execution_count": 5,
     "metadata": {},
     "output_type": "execute_result"
    }
   ],
   "source": [
    "(lambda x, y, z: x+y+z)(1,2,3)\n",
    "\n",
    "(lambda x,y,z=3:x+y+z)(1,2) #Possiamo già assegnare un valore all'interno del lambda\n",
    "\n",
    "(lambda x,y=5,z=4:x+y+z)(1,y=2,z=3) #Anche se gia dichiarato puo essere modificato il valore del lambda"
   ]
  },
  {
   "cell_type": "code",
   "execution_count": 6,
   "metadata": {},
   "outputs": [
    {
     "data": {
      "text/plain": [
       "15"
      ]
     },
     "execution_count": 6,
     "metadata": {},
     "output_type": "execute_result"
    }
   ],
   "source": [
    "(lambda *args: sum(args))(1,2,3,4,5) # Con \"*\" prima del parametro possiamo evitare di avere limiti per l'inserimento dell'input"
   ]
  }
 ],
 "metadata": {
  "kernelspec": {
   "display_name": "Python 3",
   "language": "python",
   "name": "python3"
  },
  "language_info": {
   "codemirror_mode": {
    "name": "ipython",
    "version": 3
   },
   "file_extension": ".py",
   "mimetype": "text/x-python",
   "name": "python",
   "nbconvert_exporter": "python",
   "pygments_lexer": "ipython3",
   "version": "3.10.10"
  },
  "orig_nbformat": 4
 },
 "nbformat": 4,
 "nbformat_minor": 2
}
