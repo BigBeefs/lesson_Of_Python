{
 "cells": [
  {
   "attachments": {},
   "cell_type": "markdown",
   "metadata": {},
   "source": [
    "# PROVA UTILLIZZO FUNZIONI #"
   ]
  },
  {
   "cell_type": "code",
   "execution_count": 33,
   "metadata": {},
   "outputs": [],
   "source": [
    "import math "
   ]
  },
  {
   "cell_type": "code",
   "execution_count": 1,
   "metadata": {},
   "outputs": [
    {
     "name": "stdout",
     "output_type": "stream",
     "text": [
      "Ciao\n",
      "Bello\n"
     ]
    }
   ],
   "source": [
    "def prova():\n",
    "    print('Ciao')\n",
    "    print('Bello')\n",
    "prova()"
   ]
  },
  {
   "cell_type": "code",
   "execution_count": 16,
   "metadata": {},
   "outputs": [
    {
     "name": "stdout",
     "output_type": "stream",
     "text": [
      "1 + 1 + 1\n",
      "il risultato è 3\n"
     ]
    }
   ],
   "source": [
    "def somma_tre(x,y,z):\n",
    "    '''questa funzione somma tre numeri'''\n",
    "    risultato = x+y+z\n",
    "    print(x,'+',y,'+',z)\n",
    "    print('il risultato è',str(risultato))\n",
    "somma_tre(1,1,1)\n",
    "    "
   ]
  },
  {
   "cell_type": "code",
   "execution_count": 17,
   "metadata": {},
   "outputs": [],
   "source": [
    "def media_classe(x:int,y:int,z:int):  #\"int\" suggerisce il tipo di input \n",
    "    '''Questa funziona fa la media di tre numeri'''\n",
    "    risultato = (x+y+z)/3\n",
    "    print('(',x,'+',y,'+',z,')','/3')\n",
    "    print('La media è',str(risultato))\n",
    "    return risultato"
   ]
  },
  {
   "cell_type": "code",
   "execution_count": 15,
   "metadata": {},
   "outputs": [
    {
     "name": "stdout",
     "output_type": "stream",
     "text": [
      "Facciamo la media dell'età della classe\n",
      "( 10 + 15 + 20 ) /3\n",
      "La media è 15.0\n"
     ]
    }
   ],
   "source": [
    "print(\"Facciamo la media dell'età della classe\")\n",
    "x = int(input('Quanti hanni ha Paolo?'))\n",
    "y = int(input('Quanti hanni ha Mario?'))\n",
    "z = int(input('Quanti hanni ha Carlo?'))\n",
    "\n",
    "media_classe(x,y,z)\n",
    "#somma_tre(x,y,z)"
   ]
  },
  {
   "cell_type": "code",
   "execution_count": 22,
   "metadata": {},
   "outputs": [
    {
     "name": "stdout",
     "output_type": "stream",
     "text": [
      "L'area del rettangolo è 30 m²\n"
     ]
    },
    {
     "data": {
      "text/plain": [
       "30"
      ]
     },
     "execution_count": 22,
     "metadata": {},
     "output_type": "execute_result"
    }
   ],
   "source": [
    "def area_rettangolo(b:float,h:float):\n",
    "    '''Calcola l'area di un rettangolo'''\n",
    "    area = b*h\n",
    "    #print(\"L'area del rettangolo è\",area,\"m²\")\n",
    "    return area \n",
    "print(\"L'area del rettangolo è\",area_rettangolo(2,3),\"m²\") #Richiamo il return della funzione direttamente nel print\n",
    "#area_rettangolo(10,3)"
   ]
  },
  {
   "cell_type": "code",
   "execution_count": 34,
   "metadata": {},
   "outputs": [
    {
     "data": {
      "text/plain": [
       "78.53981633974483"
      ]
     },
     "execution_count": 34,
     "metadata": {},
     "output_type": "execute_result"
    }
   ],
   "source": [
    "def area_cerchio(r:float):\n",
    "    '''Calcola l'area del cerchio'''\n",
    "    area = (r**2)*math.pi\n",
    "    #print(\"L'area del cerchio è\",area,\"m²\")\n",
    "    return area\n",
    "area_cerchio(5)"
   ]
  },
  {
   "cell_type": "code",
   "execution_count": 25,
   "metadata": {},
   "outputs": [
    {
     "name": "stdout",
     "output_type": "stream",
     "text": [
      "L'area del triangolo è 25.0 m²\n"
     ]
    }
   ],
   "source": [
    "def area_triangolo(b:float,h:float):\n",
    "    '''Calcola l'area del triangolo'''\n",
    "    area = (b*h)/2\n",
    "    #print(\"L'area del triangolo è\",area,\"m²\")\n",
    "    return area\n",
    "area_triangolo(5,10)    "
   ]
  },
  {
   "cell_type": "code",
   "execution_count": 26,
   "metadata": {},
   "outputs": [
    {
     "name": "stdout",
     "output_type": "stream",
     "text": [
      "Il perimetro del rettangolo è 80 m³\n"
     ]
    }
   ],
   "source": [
    "def perimetro_rettangolo(b:float,h:float):\n",
    "    '''Calcola il perimetro di un rettangolo'''\n",
    "    perimetro = (b+h)*2\n",
    "    #print(\"Il perimetro del rettangolo è\",perimetro,\"m\")\n",
    "    return perimetro\n",
    "perimetro_rettangolo(10,30)\n",
    "    "
   ]
  },
  {
   "cell_type": "code",
   "execution_count": 35,
   "metadata": {},
   "outputs": [
    {
     "name": "stdout",
     "output_type": "stream",
     "text": [
      "La circonferenza del cerchio è 62.83185307179586 m\n"
     ]
    },
    {
     "data": {
      "text/plain": [
       "62.83185307179586"
      ]
     },
     "execution_count": 35,
     "metadata": {},
     "output_type": "execute_result"
    }
   ],
   "source": [
    "def circonfenenza_cerchio(r:float):\n",
    "    '''Calcola circonferenza cerchio'''\n",
    "    circonferenza = r*(2*math.pi)\n",
    "    print(\"La circonferenza del cerchio è\",circonferenza,\"m\")\n",
    "    return circonferenza\n",
    "circonfenenza_cerchio(10)"
   ]
  },
  {
   "cell_type": "code",
   "execution_count": 36,
   "metadata": {},
   "outputs": [
    {
     "name": "stdout",
     "output_type": "stream",
     "text": [
      "L'area è: 9 m²\n",
      "Il volume è: 27 m³\n"
     ]
    },
    {
     "data": {
      "text/plain": [
       "9"
      ]
     },
     "execution_count": 36,
     "metadata": {},
     "output_type": "execute_result"
    }
   ],
   "source": [
    "def area_vol_quadr(l:float):\n",
    "    '''Calcola l'area e il volume di un quadrato'''\n",
    "    area= l**2\n",
    "    volume= l**3\n",
    "    return area , volume\n",
    "print(\"L'area è:\",area_vol_quadr(3)[0],\"m²\")     # Quando abbiamo più di un return otteniamo una tuple, per scegliere quale return avere \n",
    "print(\"Il volume è:\", area_vol_quadr(3)[1],\"m³\") # basta richiamare l'elemento della tuple corrisponedente: area_vol_quadr(l)[0]\n",
    "area_vol_quadr(3)[0]"
   ]
  },
  {
   "cell_type": "code",
   "execution_count": null,
   "metadata": {},
   "outputs": [],
   "source": []
  }
 ],
 "metadata": {
  "kernelspec": {
   "display_name": "Python 3",
   "language": "python",
   "name": "python3"
  },
  "language_info": {
   "codemirror_mode": {
    "name": "ipython",
    "version": 3
   },
   "file_extension": ".py",
   "mimetype": "text/x-python",
   "name": "python",
   "nbconvert_exporter": "python",
   "pygments_lexer": "ipython3",
   "version": "3.10.10"
  },
  "orig_nbformat": 4
 },
 "nbformat": 4,
 "nbformat_minor": 2
}
