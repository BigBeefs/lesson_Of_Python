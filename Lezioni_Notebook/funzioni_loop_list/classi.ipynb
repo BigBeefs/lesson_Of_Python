{
 "cells": [
  {
   "attachments": {},
   "cell_type": "markdown",
   "metadata": {},
   "source": [
    "# CLASSI #"
   ]
  },
  {
   "cell_type": "code",
   "execution_count": 15,
   "metadata": {},
   "outputs": [
    {
     "data": {
      "text/plain": [
       "48"
      ]
     },
     "execution_count": 15,
     "metadata": {},
     "output_type": "execute_result"
    }
   ],
   "source": [
    "class Persona:    #utilizziamo la prima maiusciola per identificare una classe\n",
    "    \n",
    "    def __init__(self,a,b):   #Con \"def\" definiamo la classe con il nome __init__ e \"(self,a,b)\" sono gli attributi\n",
    "        self.nome = a         \n",
    "        self.eta = b\n",
    "        \n",
    "    def quadratoanni(self):     #METODI\n",
    "        return self.eta**2      #Sono diversi metodi da applicare alle classi\n",
    "    \n",
    "    def double(self):          \n",
    "        return self.eta*2\n",
    "    \n",
    "giovanni = Persona('Giovanni',24)\n",
    "giovanni.quadratoanni()\n",
    "giovanni.double()         "
   ]
  },
  {
   "attachments": {},
   "cell_type": "markdown",
   "metadata": {},
   "source": [
    "### Gli attributi della classe ottengo i valori dichiarati in sel.var ###"
   ]
  },
  {
   "cell_type": "code",
   "execution_count": null,
   "metadata": {},
   "outputs": [],
   "source": []
  }
 ],
 "metadata": {
  "kernelspec": {
   "display_name": "Python 3",
   "language": "python",
   "name": "python3"
  },
  "language_info": {
   "codemirror_mode": {
    "name": "ipython",
    "version": 3
   },
   "file_extension": ".py",
   "mimetype": "text/x-python",
   "name": "python",
   "nbconvert_exporter": "python",
   "pygments_lexer": "ipython3",
   "version": "3.10.10"
  },
  "orig_nbformat": 4
 },
 "nbformat": 4,
 "nbformat_minor": 2
}
